{
  "metadata": {
    "colab": {
      "collapsed_sections": [],
      "name": "Lab Session.ipynb",
      "provenance": []
    },
    "kernelspec": {
      "name": "python",
      "display_name": "Python (Pyodide)",
      "language": "python"
    },
    "language_info": {
      "codemirror_mode": {
        "name": "ipython",
        "version": 3
      },
      "file_extension": ".py",
      "mimetype": "text/x-python",
      "name": "python",
      "nbconvert_exporter": "python",
      "pygments_lexer": "ipython3",
      "version": "3.11.0"
    }
  },
  "nbformat_minor": 5,
  "nbformat": 4,
  "cells": [
    {
      "cell_type": "markdown",
      "source": "# <font color=darkblue> Machine Learning model deployment with Flask framework on Heroku</font>",
      "metadata": {
        "id": "57ce141c"
      },
      "id": "57ce141c"
    },
    {
      "cell_type": "markdown",
      "source": "## <font color=Blue>Used Cars Price Prediction Application</font>",
      "metadata": {
        "id": "ba1bdb38"
      },
      "id": "ba1bdb38"
    },
    {
      "cell_type": "markdown",
      "source": "### Objective:\n1. To build a Machine learning regression model to predict the selling price of the used cars based on the different input features like fuel_type, kms_driven, type of transmission etc.\n2. Deploy the machine learning model with flask framework on heroku.",
      "metadata": {
        "id": "6492286d"
      },
      "id": "6492286d"
    },
    {
      "cell_type": "markdown",
      "source": "### Dataset Information:\n#### Dataset Source: https://www.kaggle.com/datasets/nehalbirla/vehicle-dataset-from-cardekho?select=CAR+DETAILS+FROM+CAR+DEKHO.csv\nThis dataset contains information about used cars listed on www.cardekho.com\n- **Car_Name**: Name of the car\n- **Year**: Year of Purchase\n- **Selling Price (target)**: Selling price of the car in lakhs\n- **Present Price**: Present price of the car in lakhs\n- **Kms_Driven**: kilometers driven\n- **Fuel_Type**: Petrol/diesel/CNG\n- **Seller_Type**: Dealer or Indiviual\n- **Transmission**: Manual or Automatic\n- **Owner**: first, second or third owner\n",
      "metadata": {
        "id": "6fa174ee"
      },
      "id": "6fa174ee"
    },
    {
      "cell_type": "markdown",
      "source": "### 1. Import required libraries",
      "metadata": {
        "id": "e4059ba6"
      },
      "id": "e4059ba6"
    },
    {
      "cell_type": "code",
      "source": "import pandas as pd\nimport numpy as np\nimport seaborn as sns\nimport matplotlib.pyplot as plt \n%matplotlib inline\nfrom sklearn.preprocessing import LabelEncoder\nfrom sklearn.preprocessing import StandardScaler\nfrom sklearn.model_selection import train_test_split\nfrom sklearn.ensemble import RandomForestRegressor\nfrom sklearn.metrics import accuracy_score, confusion_matrix\nimport datetime\n\nimport warnings\nwarnings.filterwarnings('ignore')",
      "metadata": {
        "id": "f6ee2764"
      },
      "execution_count": 1,
      "outputs": [],
      "id": "f6ee2764"
    },
    {
      "cell_type": "markdown",
      "source": "### 2. Load the dataset",
      "metadata": {
        "id": "8c79a95e"
      },
      "id": "8c79a95e"
    },
    {
      "cell_type": "code",
      "source": "df= pd.read_csv('Dataset/cardata.csv')",
      "metadata": {
        "id": "9a1a9544"
      },
      "execution_count": 2,
      "outputs": [],
      "id": "9a1a9544"
    },
    {
      "cell_type": "code",
      "source": "df.head(5)",
      "metadata": {},
      "execution_count": 3,
      "outputs": [
        {
          "execution_count": 3,
          "output_type": "execute_result",
          "data": {
            "text/html": [
              "<div>\n",
              "<style scoped>\n",
              "    .dataframe tbody tr th:only-of-type {\n",
              "        vertical-align: middle;\n",
              "    }\n",
              "\n",
              "    .dataframe tbody tr th {\n",
              "        vertical-align: top;\n",
              "    }\n",
              "\n",
              "    .dataframe thead th {\n",
              "        text-align: right;\n",
              "    }\n",
              "</style>\n",
              "<table border=\"1\" class=\"dataframe\">\n",
              "  <thead>\n",
              "    <tr style=\"text-align: right;\">\n",
              "      <th></th>\n",
              "      <th>Car_Name</th>\n",
              "      <th>Year</th>\n",
              "      <th>Selling_Price</th>\n",
              "      <th>Present_Price</th>\n",
              "      <th>Kms_Driven</th>\n",
              "      <th>Fuel_Type</th>\n",
              "      <th>Seller_Type</th>\n",
              "      <th>Transmission</th>\n",
              "      <th>Owner</th>\n",
              "    </tr>\n",
              "  </thead>\n",
              "  <tbody>\n",
              "    <tr>\n",
              "      <th>0</th>\n",
              "      <td>ritz</td>\n",
              "      <td>2014</td>\n",
              "      <td>3.35</td>\n",
              "      <td>5.59</td>\n",
              "      <td>27000</td>\n",
              "      <td>Petrol</td>\n",
              "      <td>Dealer</td>\n",
              "      <td>Manual</td>\n",
              "      <td>0</td>\n",
              "    </tr>\n",
              "    <tr>\n",
              "      <th>1</th>\n",
              "      <td>sx4</td>\n",
              "      <td>2013</td>\n",
              "      <td>4.75</td>\n",
              "      <td>9.54</td>\n",
              "      <td>43000</td>\n",
              "      <td>Diesel</td>\n",
              "      <td>Dealer</td>\n",
              "      <td>Manual</td>\n",
              "      <td>0</td>\n",
              "    </tr>\n",
              "    <tr>\n",
              "      <th>2</th>\n",
              "      <td>ciaz</td>\n",
              "      <td>2017</td>\n",
              "      <td>7.25</td>\n",
              "      <td>9.85</td>\n",
              "      <td>6900</td>\n",
              "      <td>Petrol</td>\n",
              "      <td>Dealer</td>\n",
              "      <td>Manual</td>\n",
              "      <td>0</td>\n",
              "    </tr>\n",
              "    <tr>\n",
              "      <th>3</th>\n",
              "      <td>wagon r</td>\n",
              "      <td>2011</td>\n",
              "      <td>2.85</td>\n",
              "      <td>4.15</td>\n",
              "      <td>5200</td>\n",
              "      <td>Petrol</td>\n",
              "      <td>Dealer</td>\n",
              "      <td>Manual</td>\n",
              "      <td>0</td>\n",
              "    </tr>\n",
              "    <tr>\n",
              "      <th>4</th>\n",
              "      <td>swift</td>\n",
              "      <td>2014</td>\n",
              "      <td>4.60</td>\n",
              "      <td>6.87</td>\n",
              "      <td>42450</td>\n",
              "      <td>Diesel</td>\n",
              "      <td>Dealer</td>\n",
              "      <td>Manual</td>\n",
              "      <td>0</td>\n",
              "    </tr>\n",
              "  </tbody>\n",
              "</table>\n",
              "</div>"
            ],
            "text/plain": [
              "  Car_Name  Year  Selling_Price  Present_Price  Kms_Driven Fuel_Type  \\\n",
              "0     ritz  2014           3.35           5.59       27000    Petrol   \n",
              "1      sx4  2013           4.75           9.54       43000    Diesel   \n",
              "2     ciaz  2017           7.25           9.85        6900    Petrol   \n",
              "3  wagon r  2011           2.85           4.15        5200    Petrol   \n",
              "4    swift  2014           4.60           6.87       42450    Diesel   \n",
              "\n",
              "  Seller_Type Transmission  Owner  \n",
              "0      Dealer       Manual      0  \n",
              "1      Dealer       Manual      0  \n",
              "2      Dealer       Manual      0  \n",
              "3      Dealer       Manual      0  \n",
              "4      Dealer       Manual      0  "
            ]
          },
          "metadata": {}
        }
      ],
      "id": "e982d5d4"
    },
    {
      "cell_type": "markdown",
      "source": "### 3. Check the shape and basic information of the dataset.",
      "metadata": {
        "id": "13204bc7"
      },
      "id": "13204bc7"
    },
    {
      "cell_type": "code",
      "source": "df.shape",
      "metadata": {
        "id": "dd100657"
      },
      "execution_count": 4,
      "outputs": [
        {
          "execution_count": 4,
          "output_type": "execute_result",
          "data": {
            "text/plain": [
              "(301, 9)"
            ]
          },
          "metadata": {}
        }
      ],
      "id": "dd100657"
    },
    {
      "cell_type": "code",
      "source": "df.info()",
      "metadata": {},
      "execution_count": 5,
      "outputs": [
        {
          "name": "stdout",
          "output_type": "stream",
          "text": "<class 'pandas.core.frame.DataFrame'>\n\nRangeIndex: 301 entries, 0 to 300\n\nData columns (total 9 columns):\n\n #   Column         Non-Null Count  Dtype  \n\n---  ------         --------------  -----  \n\n 0   Car_Name       301 non-null    object \n\n 1   Year           301 non-null    int64  \n\n 2   Selling_Price  301 non-null    float64\n\n 3   Present_Price  301 non-null    float64\n\n 4   Kms_Driven     301 non-null    int64  \n\n 5   Fuel_Type      301 non-null    object \n\n 6   Seller_Type    301 non-null    object \n\n 7   Transmission   301 non-null    object \n\n 8   Owner          301 non-null    int64  \n\ndtypes: float64(2), int64(3), object(4)\n\nmemory usage: 21.3+ KB\n"
        }
      ],
      "id": "d7c511e4"
    },
    {
      "cell_type": "code",
      "source": "df.describe()",
      "metadata": {},
      "execution_count": 6,
      "outputs": [
        {
          "execution_count": 6,
          "output_type": "execute_result",
          "data": {
            "text/html": [
              "<div>\n",
              "<style scoped>\n",
              "    .dataframe tbody tr th:only-of-type {\n",
              "        vertical-align: middle;\n",
              "    }\n",
              "\n",
              "    .dataframe tbody tr th {\n",
              "        vertical-align: top;\n",
              "    }\n",
              "\n",
              "    .dataframe thead th {\n",
              "        text-align: right;\n",
              "    }\n",
              "</style>\n",
              "<table border=\"1\" class=\"dataframe\">\n",
              "  <thead>\n",
              "    <tr style=\"text-align: right;\">\n",
              "      <th></th>\n",
              "      <th>Year</th>\n",
              "      <th>Selling_Price</th>\n",
              "      <th>Present_Price</th>\n",
              "      <th>Kms_Driven</th>\n",
              "      <th>Owner</th>\n",
              "    </tr>\n",
              "  </thead>\n",
              "  <tbody>\n",
              "    <tr>\n",
              "      <th>count</th>\n",
              "      <td>301.000000</td>\n",
              "      <td>301.000000</td>\n",
              "      <td>301.000000</td>\n",
              "      <td>301.000000</td>\n",
              "      <td>301.000000</td>\n",
              "    </tr>\n",
              "    <tr>\n",
              "      <th>mean</th>\n",
              "      <td>2013.627907</td>\n",
              "      <td>4.661296</td>\n",
              "      <td>7.628472</td>\n",
              "      <td>36947.205980</td>\n",
              "      <td>0.043189</td>\n",
              "    </tr>\n",
              "    <tr>\n",
              "      <th>std</th>\n",
              "      <td>2.891554</td>\n",
              "      <td>5.082812</td>\n",
              "      <td>8.644115</td>\n",
              "      <td>38886.883882</td>\n",
              "      <td>0.247915</td>\n",
              "    </tr>\n",
              "    <tr>\n",
              "      <th>min</th>\n",
              "      <td>2003.000000</td>\n",
              "      <td>0.100000</td>\n",
              "      <td>0.320000</td>\n",
              "      <td>500.000000</td>\n",
              "      <td>0.000000</td>\n",
              "    </tr>\n",
              "    <tr>\n",
              "      <th>25%</th>\n",
              "      <td>2012.000000</td>\n",
              "      <td>0.900000</td>\n",
              "      <td>1.200000</td>\n",
              "      <td>15000.000000</td>\n",
              "      <td>0.000000</td>\n",
              "    </tr>\n",
              "    <tr>\n",
              "      <th>50%</th>\n",
              "      <td>2014.000000</td>\n",
              "      <td>3.600000</td>\n",
              "      <td>6.400000</td>\n",
              "      <td>32000.000000</td>\n",
              "      <td>0.000000</td>\n",
              "    </tr>\n",
              "    <tr>\n",
              "      <th>75%</th>\n",
              "      <td>2016.000000</td>\n",
              "      <td>6.000000</td>\n",
              "      <td>9.900000</td>\n",
              "      <td>48767.000000</td>\n",
              "      <td>0.000000</td>\n",
              "    </tr>\n",
              "    <tr>\n",
              "      <th>max</th>\n",
              "      <td>2018.000000</td>\n",
              "      <td>35.000000</td>\n",
              "      <td>92.600000</td>\n",
              "      <td>500000.000000</td>\n",
              "      <td>3.000000</td>\n",
              "    </tr>\n",
              "  </tbody>\n",
              "</table>\n",
              "</div>"
            ],
            "text/plain": [
              "              Year  Selling_Price  Present_Price     Kms_Driven       Owner\n",
              "count   301.000000     301.000000     301.000000     301.000000  301.000000\n",
              "mean   2013.627907       4.661296       7.628472   36947.205980    0.043189\n",
              "std       2.891554       5.082812       8.644115   38886.883882    0.247915\n",
              "min    2003.000000       0.100000       0.320000     500.000000    0.000000\n",
              "25%    2012.000000       0.900000       1.200000   15000.000000    0.000000\n",
              "50%    2014.000000       3.600000       6.400000   32000.000000    0.000000\n",
              "75%    2016.000000       6.000000       9.900000   48767.000000    0.000000\n",
              "max    2018.000000      35.000000      92.600000  500000.000000    3.000000"
            ]
          },
          "metadata": {}
        }
      ],
      "id": "692ec5fb"
    },
    {
      "cell_type": "markdown",
      "source": "### 4. Check for the presence of the duplicate records in the dataset? If present drop them",
      "metadata": {
        "id": "e69c8bc1"
      },
      "id": "e69c8bc1"
    },
    {
      "cell_type": "code",
      "source": "df.duplicated().sum()",
      "metadata": {
        "id": "d0456bdd"
      },
      "execution_count": 7,
      "outputs": [
        {
          "execution_count": 7,
          "output_type": "execute_result",
          "data": {
            "text/plain": [
              "2"
            ]
          },
          "metadata": {}
        }
      ],
      "id": "d0456bdd"
    },
    {
      "cell_type": "markdown",
      "source": "### 5. Drop the columns which you think redundant for the analysis.",
      "metadata": {
        "id": "ef965d82"
      },
      "id": "ef965d82"
    },
    {
      "cell_type": "code",
      "source": "df=df.drop_duplicates()",
      "metadata": {
        "id": "48e26af1"
      },
      "execution_count": 8,
      "outputs": [],
      "id": "48e26af1"
    },
    {
      "cell_type": "code",
      "source": "df.duplicated().sum()",
      "metadata": {},
      "execution_count": 9,
      "outputs": [
        {
          "execution_count": 9,
          "output_type": "execute_result",
          "data": {
            "text/plain": [
              "0"
            ]
          },
          "metadata": {}
        }
      ],
      "id": "08952a55"
    },
    {
      "cell_type": "code",
      "source": "df.shape",
      "metadata": {},
      "execution_count": 10,
      "outputs": [
        {
          "execution_count": 10,
          "output_type": "execute_result",
          "data": {
            "text/plain": [
              "(299, 9)"
            ]
          },
          "metadata": {}
        }
      ],
      "id": "dceaa6aa"
    },
    {
      "cell_type": "code",
      "source": "df.drop('Car_Name', inplace=True, axis=1)",
      "metadata": {},
      "execution_count": 11,
      "outputs": [],
      "id": "c597bfd3"
    },
    {
      "cell_type": "code",
      "source": "df.info()",
      "metadata": {},
      "execution_count": 12,
      "outputs": [
        {
          "name": "stdout",
          "output_type": "stream",
          "text": "<class 'pandas.core.frame.DataFrame'>\n\nInt64Index: 299 entries, 0 to 300\n\nData columns (total 8 columns):\n\n #   Column         Non-Null Count  Dtype  \n\n---  ------         --------------  -----  \n\n 0   Year           299 non-null    int64  \n\n 1   Selling_Price  299 non-null    float64\n\n 2   Present_Price  299 non-null    float64\n\n 3   Kms_Driven     299 non-null    int64  \n\n 4   Fuel_Type      299 non-null    object \n\n 5   Seller_Type    299 non-null    object \n\n 6   Transmission   299 non-null    object \n\n 7   Owner          299 non-null    int64  \n\ndtypes: float64(2), int64(3), object(3)\n\nmemory usage: 21.0+ KB\n"
        }
      ],
      "id": "86099d0f"
    },
    {
      "cell_type": "code",
      "source": "df.shape",
      "metadata": {},
      "execution_count": 13,
      "outputs": [
        {
          "execution_count": 13,
          "output_type": "execute_result",
          "data": {
            "text/plain": [
              "(299, 8)"
            ]
          },
          "metadata": {}
        }
      ],
      "id": "0e00a957"
    },
    {
      "cell_type": "markdown",
      "source": "### 6. Extract a new feature called 'age_of_the_car' from the feature 'year' and drop the feature year",
      "metadata": {
        "id": "38e4a84d"
      },
      "id": "38e4a84d"
    },
    {
      "cell_type": "code",
      "source": "df['age_of_the_car']=datetime.datetime.today().year-df['Year']",
      "metadata": {
        "id": "eff4fb15"
      },
      "execution_count": 14,
      "outputs": [],
      "id": "eff4fb15"
    },
    {
      "cell_type": "code",
      "source": "# After adding 'age_of_the_car' column and before dropping the year column\ndf.head(5)",
      "metadata": {},
      "execution_count": 15,
      "outputs": [
        {
          "execution_count": 15,
          "output_type": "execute_result",
          "data": {
            "text/html": [
              "<div>\n",
              "<style scoped>\n",
              "    .dataframe tbody tr th:only-of-type {\n",
              "        vertical-align: middle;\n",
              "    }\n",
              "\n",
              "    .dataframe tbody tr th {\n",
              "        vertical-align: top;\n",
              "    }\n",
              "\n",
              "    .dataframe thead th {\n",
              "        text-align: right;\n",
              "    }\n",
              "</style>\n",
              "<table border=\"1\" class=\"dataframe\">\n",
              "  <thead>\n",
              "    <tr style=\"text-align: right;\">\n",
              "      <th></th>\n",
              "      <th>Year</th>\n",
              "      <th>Selling_Price</th>\n",
              "      <th>Present_Price</th>\n",
              "      <th>Kms_Driven</th>\n",
              "      <th>Fuel_Type</th>\n",
              "      <th>Seller_Type</th>\n",
              "      <th>Transmission</th>\n",
              "      <th>Owner</th>\n",
              "      <th>age_of_the_car</th>\n",
              "    </tr>\n",
              "  </thead>\n",
              "  <tbody>\n",
              "    <tr>\n",
              "      <th>0</th>\n",
              "      <td>2014</td>\n",
              "      <td>3.35</td>\n",
              "      <td>5.59</td>\n",
              "      <td>27000</td>\n",
              "      <td>Petrol</td>\n",
              "      <td>Dealer</td>\n",
              "      <td>Manual</td>\n",
              "      <td>0</td>\n",
              "      <td>8</td>\n",
              "    </tr>\n",
              "    <tr>\n",
              "      <th>1</th>\n",
              "      <td>2013</td>\n",
              "      <td>4.75</td>\n",
              "      <td>9.54</td>\n",
              "      <td>43000</td>\n",
              "      <td>Diesel</td>\n",
              "      <td>Dealer</td>\n",
              "      <td>Manual</td>\n",
              "      <td>0</td>\n",
              "      <td>9</td>\n",
              "    </tr>\n",
              "    <tr>\n",
              "      <th>2</th>\n",
              "      <td>2017</td>\n",
              "      <td>7.25</td>\n",
              "      <td>9.85</td>\n",
              "      <td>6900</td>\n",
              "      <td>Petrol</td>\n",
              "      <td>Dealer</td>\n",
              "      <td>Manual</td>\n",
              "      <td>0</td>\n",
              "      <td>5</td>\n",
              "    </tr>\n",
              "    <tr>\n",
              "      <th>3</th>\n",
              "      <td>2011</td>\n",
              "      <td>2.85</td>\n",
              "      <td>4.15</td>\n",
              "      <td>5200</td>\n",
              "      <td>Petrol</td>\n",
              "      <td>Dealer</td>\n",
              "      <td>Manual</td>\n",
              "      <td>0</td>\n",
              "      <td>11</td>\n",
              "    </tr>\n",
              "    <tr>\n",
              "      <th>4</th>\n",
              "      <td>2014</td>\n",
              "      <td>4.60</td>\n",
              "      <td>6.87</td>\n",
              "      <td>42450</td>\n",
              "      <td>Diesel</td>\n",
              "      <td>Dealer</td>\n",
              "      <td>Manual</td>\n",
              "      <td>0</td>\n",
              "      <td>8</td>\n",
              "    </tr>\n",
              "  </tbody>\n",
              "</table>\n",
              "</div>"
            ],
            "text/plain": [
              "   Year  Selling_Price  Present_Price  Kms_Driven Fuel_Type Seller_Type  \\\n",
              "0  2014           3.35           5.59       27000    Petrol      Dealer   \n",
              "1  2013           4.75           9.54       43000    Diesel      Dealer   \n",
              "2  2017           7.25           9.85        6900    Petrol      Dealer   \n",
              "3  2011           2.85           4.15        5200    Petrol      Dealer   \n",
              "4  2014           4.60           6.87       42450    Diesel      Dealer   \n",
              "\n",
              "  Transmission  Owner  age_of_the_car  \n",
              "0       Manual      0               8  \n",
              "1       Manual      0               9  \n",
              "2       Manual      0               5  \n",
              "3       Manual      0              11  \n",
              "4       Manual      0               8  "
            ]
          },
          "metadata": {}
        }
      ],
      "id": "1e5f8a0a"
    },
    {
      "cell_type": "code",
      "source": "df.drop('Year', axis=1,inplace=True)",
      "metadata": {},
      "execution_count": 16,
      "outputs": [],
      "id": "af8967f2"
    },
    {
      "cell_type": "code",
      "source": "# After dropping the year column\ndf.head(5)",
      "metadata": {},
      "execution_count": 17,
      "outputs": [
        {
          "execution_count": 17,
          "output_type": "execute_result",
          "data": {
            "text/html": [
              "<div>\n",
              "<style scoped>\n",
              "    .dataframe tbody tr th:only-of-type {\n",
              "        vertical-align: middle;\n",
              "    }\n",
              "\n",
              "    .dataframe tbody tr th {\n",
              "        vertical-align: top;\n",
              "    }\n",
              "\n",
              "    .dataframe thead th {\n",
              "        text-align: right;\n",
              "    }\n",
              "</style>\n",
              "<table border=\"1\" class=\"dataframe\">\n",
              "  <thead>\n",
              "    <tr style=\"text-align: right;\">\n",
              "      <th></th>\n",
              "      <th>Selling_Price</th>\n",
              "      <th>Present_Price</th>\n",
              "      <th>Kms_Driven</th>\n",
              "      <th>Fuel_Type</th>\n",
              "      <th>Seller_Type</th>\n",
              "      <th>Transmission</th>\n",
              "      <th>Owner</th>\n",
              "      <th>age_of_the_car</th>\n",
              "    </tr>\n",
              "  </thead>\n",
              "  <tbody>\n",
              "    <tr>\n",
              "      <th>0</th>\n",
              "      <td>3.35</td>\n",
              "      <td>5.59</td>\n",
              "      <td>27000</td>\n",
              "      <td>Petrol</td>\n",
              "      <td>Dealer</td>\n",
              "      <td>Manual</td>\n",
              "      <td>0</td>\n",
              "      <td>8</td>\n",
              "    </tr>\n",
              "    <tr>\n",
              "      <th>1</th>\n",
              "      <td>4.75</td>\n",
              "      <td>9.54</td>\n",
              "      <td>43000</td>\n",
              "      <td>Diesel</td>\n",
              "      <td>Dealer</td>\n",
              "      <td>Manual</td>\n",
              "      <td>0</td>\n",
              "      <td>9</td>\n",
              "    </tr>\n",
              "    <tr>\n",
              "      <th>2</th>\n",
              "      <td>7.25</td>\n",
              "      <td>9.85</td>\n",
              "      <td>6900</td>\n",
              "      <td>Petrol</td>\n",
              "      <td>Dealer</td>\n",
              "      <td>Manual</td>\n",
              "      <td>0</td>\n",
              "      <td>5</td>\n",
              "    </tr>\n",
              "    <tr>\n",
              "      <th>3</th>\n",
              "      <td>2.85</td>\n",
              "      <td>4.15</td>\n",
              "      <td>5200</td>\n",
              "      <td>Petrol</td>\n",
              "      <td>Dealer</td>\n",
              "      <td>Manual</td>\n",
              "      <td>0</td>\n",
              "      <td>11</td>\n",
              "    </tr>\n",
              "    <tr>\n",
              "      <th>4</th>\n",
              "      <td>4.60</td>\n",
              "      <td>6.87</td>\n",
              "      <td>42450</td>\n",
              "      <td>Diesel</td>\n",
              "      <td>Dealer</td>\n",
              "      <td>Manual</td>\n",
              "      <td>0</td>\n",
              "      <td>8</td>\n",
              "    </tr>\n",
              "  </tbody>\n",
              "</table>\n",
              "</div>"
            ],
            "text/plain": [
              "   Selling_Price  Present_Price  Kms_Driven Fuel_Type Seller_Type  \\\n",
              "0           3.35           5.59       27000    Petrol      Dealer   \n",
              "1           4.75           9.54       43000    Diesel      Dealer   \n",
              "2           7.25           9.85        6900    Petrol      Dealer   \n",
              "3           2.85           4.15        5200    Petrol      Dealer   \n",
              "4           4.60           6.87       42450    Diesel      Dealer   \n",
              "\n",
              "  Transmission  Owner  age_of_the_car  \n",
              "0       Manual      0               8  \n",
              "1       Manual      0               9  \n",
              "2       Manual      0               5  \n",
              "3       Manual      0              11  \n",
              "4       Manual      0               8  "
            ]
          },
          "metadata": {}
        }
      ],
      "id": "66576cde"
    },
    {
      "cell_type": "markdown",
      "source": "### 7. Encode the categorical columns",
      "metadata": {
        "id": "b14100a4"
      },
      "id": "b14100a4"
    },
    {
      "cell_type": "code",
      "source": "cate = ['Fuel_Type','Seller_Type','Transmission',]\nlbl_encode = LabelEncoder()\n\nfor i in cate:\n    df[i]=df[[i]].apply(lbl_encode.fit_transform)\ndf.head(5)    ",
      "metadata": {
        "id": "14f8a038"
      },
      "execution_count": 18,
      "outputs": [
        {
          "execution_count": 18,
          "output_type": "execute_result",
          "data": {
            "text/html": [
              "<div>\n",
              "<style scoped>\n",
              "    .dataframe tbody tr th:only-of-type {\n",
              "        vertical-align: middle;\n",
              "    }\n",
              "\n",
              "    .dataframe tbody tr th {\n",
              "        vertical-align: top;\n",
              "    }\n",
              "\n",
              "    .dataframe thead th {\n",
              "        text-align: right;\n",
              "    }\n",
              "</style>\n",
              "<table border=\"1\" class=\"dataframe\">\n",
              "  <thead>\n",
              "    <tr style=\"text-align: right;\">\n",
              "      <th></th>\n",
              "      <th>Selling_Price</th>\n",
              "      <th>Present_Price</th>\n",
              "      <th>Kms_Driven</th>\n",
              "      <th>Fuel_Type</th>\n",
              "      <th>Seller_Type</th>\n",
              "      <th>Transmission</th>\n",
              "      <th>Owner</th>\n",
              "      <th>age_of_the_car</th>\n",
              "    </tr>\n",
              "  </thead>\n",
              "  <tbody>\n",
              "    <tr>\n",
              "      <th>0</th>\n",
              "      <td>3.35</td>\n",
              "      <td>5.59</td>\n",
              "      <td>27000</td>\n",
              "      <td>2</td>\n",
              "      <td>0</td>\n",
              "      <td>1</td>\n",
              "      <td>0</td>\n",
              "      <td>8</td>\n",
              "    </tr>\n",
              "    <tr>\n",
              "      <th>1</th>\n",
              "      <td>4.75</td>\n",
              "      <td>9.54</td>\n",
              "      <td>43000</td>\n",
              "      <td>1</td>\n",
              "      <td>0</td>\n",
              "      <td>1</td>\n",
              "      <td>0</td>\n",
              "      <td>9</td>\n",
              "    </tr>\n",
              "    <tr>\n",
              "      <th>2</th>\n",
              "      <td>7.25</td>\n",
              "      <td>9.85</td>\n",
              "      <td>6900</td>\n",
              "      <td>2</td>\n",
              "      <td>0</td>\n",
              "      <td>1</td>\n",
              "      <td>0</td>\n",
              "      <td>5</td>\n",
              "    </tr>\n",
              "    <tr>\n",
              "      <th>3</th>\n",
              "      <td>2.85</td>\n",
              "      <td>4.15</td>\n",
              "      <td>5200</td>\n",
              "      <td>2</td>\n",
              "      <td>0</td>\n",
              "      <td>1</td>\n",
              "      <td>0</td>\n",
              "      <td>11</td>\n",
              "    </tr>\n",
              "    <tr>\n",
              "      <th>4</th>\n",
              "      <td>4.60</td>\n",
              "      <td>6.87</td>\n",
              "      <td>42450</td>\n",
              "      <td>1</td>\n",
              "      <td>0</td>\n",
              "      <td>1</td>\n",
              "      <td>0</td>\n",
              "      <td>8</td>\n",
              "    </tr>\n",
              "  </tbody>\n",
              "</table>\n",
              "</div>"
            ],
            "text/plain": [
              "   Selling_Price  Present_Price  Kms_Driven  Fuel_Type  Seller_Type  \\\n",
              "0           3.35           5.59       27000          2            0   \n",
              "1           4.75           9.54       43000          1            0   \n",
              "2           7.25           9.85        6900          2            0   \n",
              "3           2.85           4.15        5200          2            0   \n",
              "4           4.60           6.87       42450          1            0   \n",
              "\n",
              "   Transmission  Owner  age_of_the_car  \n",
              "0             1      0               8  \n",
              "1             1      0               9  \n",
              "2             1      0               5  \n",
              "3             1      0              11  \n",
              "4             1      0               8  "
            ]
          },
          "metadata": {}
        }
      ],
      "id": "14f8a038"
    },
    {
      "cell_type": "markdown",
      "source": "### 8. Separate the target and independent features.",
      "metadata": {
        "id": "0cf17c9e"
      },
      "id": "0cf17c9e"
    },
    {
      "cell_type": "code",
      "source": "X = df.drop('Selling_Price',axis=1)\ny = df['Selling_Price']\ndf.head(5)",
      "metadata": {
        "id": "2000d472"
      },
      "execution_count": 19,
      "outputs": [
        {
          "execution_count": 19,
          "output_type": "execute_result",
          "data": {
            "text/html": [
              "<div>\n",
              "<style scoped>\n",
              "    .dataframe tbody tr th:only-of-type {\n",
              "        vertical-align: middle;\n",
              "    }\n",
              "\n",
              "    .dataframe tbody tr th {\n",
              "        vertical-align: top;\n",
              "    }\n",
              "\n",
              "    .dataframe thead th {\n",
              "        text-align: right;\n",
              "    }\n",
              "</style>\n",
              "<table border=\"1\" class=\"dataframe\">\n",
              "  <thead>\n",
              "    <tr style=\"text-align: right;\">\n",
              "      <th></th>\n",
              "      <th>Selling_Price</th>\n",
              "      <th>Present_Price</th>\n",
              "      <th>Kms_Driven</th>\n",
              "      <th>Fuel_Type</th>\n",
              "      <th>Seller_Type</th>\n",
              "      <th>Transmission</th>\n",
              "      <th>Owner</th>\n",
              "      <th>age_of_the_car</th>\n",
              "    </tr>\n",
              "  </thead>\n",
              "  <tbody>\n",
              "    <tr>\n",
              "      <th>0</th>\n",
              "      <td>3.35</td>\n",
              "      <td>5.59</td>\n",
              "      <td>27000</td>\n",
              "      <td>2</td>\n",
              "      <td>0</td>\n",
              "      <td>1</td>\n",
              "      <td>0</td>\n",
              "      <td>8</td>\n",
              "    </tr>\n",
              "    <tr>\n",
              "      <th>1</th>\n",
              "      <td>4.75</td>\n",
              "      <td>9.54</td>\n",
              "      <td>43000</td>\n",
              "      <td>1</td>\n",
              "      <td>0</td>\n",
              "      <td>1</td>\n",
              "      <td>0</td>\n",
              "      <td>9</td>\n",
              "    </tr>\n",
              "    <tr>\n",
              "      <th>2</th>\n",
              "      <td>7.25</td>\n",
              "      <td>9.85</td>\n",
              "      <td>6900</td>\n",
              "      <td>2</td>\n",
              "      <td>0</td>\n",
              "      <td>1</td>\n",
              "      <td>0</td>\n",
              "      <td>5</td>\n",
              "    </tr>\n",
              "    <tr>\n",
              "      <th>3</th>\n",
              "      <td>2.85</td>\n",
              "      <td>4.15</td>\n",
              "      <td>5200</td>\n",
              "      <td>2</td>\n",
              "      <td>0</td>\n",
              "      <td>1</td>\n",
              "      <td>0</td>\n",
              "      <td>11</td>\n",
              "    </tr>\n",
              "    <tr>\n",
              "      <th>4</th>\n",
              "      <td>4.60</td>\n",
              "      <td>6.87</td>\n",
              "      <td>42450</td>\n",
              "      <td>1</td>\n",
              "      <td>0</td>\n",
              "      <td>1</td>\n",
              "      <td>0</td>\n",
              "      <td>8</td>\n",
              "    </tr>\n",
              "  </tbody>\n",
              "</table>\n",
              "</div>"
            ],
            "text/plain": [
              "   Selling_Price  Present_Price  Kms_Driven  Fuel_Type  Seller_Type  \\\n",
              "0           3.35           5.59       27000          2            0   \n",
              "1           4.75           9.54       43000          1            0   \n",
              "2           7.25           9.85        6900          2            0   \n",
              "3           2.85           4.15        5200          2            0   \n",
              "4           4.60           6.87       42450          1            0   \n",
              "\n",
              "   Transmission  Owner  age_of_the_car  \n",
              "0             1      0               8  \n",
              "1             1      0               9  \n",
              "2             1      0               5  \n",
              "3             1      0              11  \n",
              "4             1      0               8  "
            ]
          },
          "metadata": {}
        }
      ],
      "id": "2000d472"
    },
    {
      "cell_type": "markdown",
      "source": "### 9. Split the data into train and test.",
      "metadata": {
        "id": "a7962944"
      },
      "id": "a7962944"
    },
    {
      "cell_type": "code",
      "source": "X_train,X_test,y_train,y_test = train_test_split(X,y,test_size=0.3,random_state=0)\n\nprint(X_train.shape,X_test.shape)\nprint(y_train.shape,y_test.shape)",
      "metadata": {
        "id": "b8ee4942"
      },
      "execution_count": 20,
      "outputs": [
        {
          "name": "stdout",
          "output_type": "stream",
          "text": "(209, 7) (90, 7)\n\n(209,) (90,)\n"
        }
      ],
      "id": "b8ee4942"
    },
    {
      "cell_type": "code",
      "source": "## Let us check the accuracy to see hows our model is performing\n# Make necessary imports\nfrom sklearn.ensemble import RandomForestRegressor\nfrom sklearn.model_selection import train_test_split\n\nrf = RandomForestRegressor()\nrf.fit(X_train,y_train)",
      "metadata": {},
      "execution_count": 21,
      "outputs": [
        {
          "execution_count": 21,
          "output_type": "execute_result",
          "data": {
            "text/html": [
              "<style>#sk-container-id-1 {color: black;background-color: white;}#sk-container-id-1 pre{padding: 0;}#sk-container-id-1 div.sk-toggleable {background-color: white;}#sk-container-id-1 label.sk-toggleable__label {cursor: pointer;display: block;width: 100%;margin-bottom: 0;padding: 0.3em;box-sizing: border-box;text-align: center;}#sk-container-id-1 label.sk-toggleable__label-arrow:before {content: \"▸\";float: left;margin-right: 0.25em;color: #696969;}#sk-container-id-1 label.sk-toggleable__label-arrow:hover:before {color: black;}#sk-container-id-1 div.sk-estimator:hover label.sk-toggleable__label-arrow:before {color: black;}#sk-container-id-1 div.sk-toggleable__content {max-height: 0;max-width: 0;overflow: hidden;text-align: left;background-color: #f0f8ff;}#sk-container-id-1 div.sk-toggleable__content pre {margin: 0.2em;color: black;border-radius: 0.25em;background-color: #f0f8ff;}#sk-container-id-1 input.sk-toggleable__control:checked~div.sk-toggleable__content {max-height: 200px;max-width: 100%;overflow: auto;}#sk-container-id-1 input.sk-toggleable__control:checked~label.sk-toggleable__label-arrow:before {content: \"▾\";}#sk-container-id-1 div.sk-estimator input.sk-toggleable__control:checked~label.sk-toggleable__label {background-color: #d4ebff;}#sk-container-id-1 div.sk-label input.sk-toggleable__control:checked~label.sk-toggleable__label {background-color: #d4ebff;}#sk-container-id-1 input.sk-hidden--visually {border: 0;clip: rect(1px 1px 1px 1px);clip: rect(1px, 1px, 1px, 1px);height: 1px;margin: -1px;overflow: hidden;padding: 0;position: absolute;width: 1px;}#sk-container-id-1 div.sk-estimator {font-family: monospace;background-color: #f0f8ff;border: 1px dotted black;border-radius: 0.25em;box-sizing: border-box;margin-bottom: 0.5em;}#sk-container-id-1 div.sk-estimator:hover {background-color: #d4ebff;}#sk-container-id-1 div.sk-parallel-item::after {content: \"\";width: 100%;border-bottom: 1px solid gray;flex-grow: 1;}#sk-container-id-1 div.sk-label:hover label.sk-toggleable__label {background-color: #d4ebff;}#sk-container-id-1 div.sk-serial::before {content: \"\";position: absolute;border-left: 1px solid gray;box-sizing: border-box;top: 0;bottom: 0;left: 50%;z-index: 0;}#sk-container-id-1 div.sk-serial {display: flex;flex-direction: column;align-items: center;background-color: white;padding-right: 0.2em;padding-left: 0.2em;position: relative;}#sk-container-id-1 div.sk-item {position: relative;z-index: 1;}#sk-container-id-1 div.sk-parallel {display: flex;align-items: stretch;justify-content: center;background-color: white;position: relative;}#sk-container-id-1 div.sk-item::before, #sk-container-id-1 div.sk-parallel-item::before {content: \"\";position: absolute;border-left: 1px solid gray;box-sizing: border-box;top: 0;bottom: 0;left: 50%;z-index: -1;}#sk-container-id-1 div.sk-parallel-item {display: flex;flex-direction: column;z-index: 1;position: relative;background-color: white;}#sk-container-id-1 div.sk-parallel-item:first-child::after {align-self: flex-end;width: 50%;}#sk-container-id-1 div.sk-parallel-item:last-child::after {align-self: flex-start;width: 50%;}#sk-container-id-1 div.sk-parallel-item:only-child::after {width: 0;}#sk-container-id-1 div.sk-dashed-wrapped {border: 1px dashed gray;margin: 0 0.4em 0.5em 0.4em;box-sizing: border-box;padding-bottom: 0.4em;background-color: white;}#sk-container-id-1 div.sk-label label {font-family: monospace;font-weight: bold;display: inline-block;line-height: 1.2em;}#sk-container-id-1 div.sk-label-container {text-align: center;}#sk-container-id-1 div.sk-container {/* jupyter's `normalize.less` sets `[hidden] { display: none; }` but bootstrap.min.css set `[hidden] { display: none !important; }` so we also need the `!important` here to be able to override the default hidden behavior on the sphinx rendered scikit-learn.org. See: https://github.com/scikit-learn/scikit-learn/issues/21755 */display: inline-block !important;position: relative;}#sk-container-id-1 div.sk-text-repr-fallback {display: none;}</style><div id=\"sk-container-id-1\" class=\"sk-top-container\"><div class=\"sk-text-repr-fallback\"><pre>RandomForestRegressor()</pre><b>In a Jupyter environment, please rerun this cell to show the HTML representation or trust the notebook. <br />On GitHub, the HTML representation is unable to render, please try loading this page with nbviewer.org.</b></div><div class=\"sk-container\" hidden><div class=\"sk-item\"><div class=\"sk-estimator sk-toggleable\"><input class=\"sk-toggleable__control sk-hidden--visually\" id=\"sk-estimator-id-1\" type=\"checkbox\" checked><label for=\"sk-estimator-id-1\" class=\"sk-toggleable__label sk-toggleable__label-arrow\">RandomForestRegressor</label><div class=\"sk-toggleable__content\"><pre>RandomForestRegressor()</pre></div></div></div></div></div>"
            ],
            "text/plain": [
              "RandomForestRegressor()"
            ]
          },
          "metadata": {}
        }
      ],
      "id": "414b67da"
    },
    {
      "cell_type": "markdown",
      "source": "### 10. Build a Random forest Regressor model and check the r2-score for train and test.",
      "metadata": {
        "id": "0bebd320"
      },
      "id": "0bebd320"
    },
    {
      "cell_type": "code",
      "source": "from sklearn.metrics import mean_squared_error, r2_score, mean_absolute_error\ny_train_pred = rf.predict(X_train)\ny_test_pred = rf.predict(X_test)\n\nr2_train = r2_score(y_train,y_train_pred)\nr2_test = r2_score(y_test,y_test_pred)\n\nprint('r2-score train:',r2_train)\nprint('r2-score test',r2_test)",
      "metadata": {
        "id": "22e9ba62"
      },
      "execution_count": 22,
      "outputs": [
        {
          "name": "stdout",
          "output_type": "stream",
          "text": "r2-score train: 0.9798407995678856\n\nr2-score test 0.898878697719344\n"
        }
      ],
      "id": "22e9ba62"
    },
    {
      "cell_type": "markdown",
      "source": "### 11. Create a pickle file with an extension as .pkl",
      "metadata": {
        "id": "26e089c8"
      },
      "id": "26e089c8"
    },
    {
      "cell_type": "code",
      "source": "import pickle\n# Saving model to disk\npickle.dump(rf, open('model.pkl','wb'))\n\n# Loading model to compare the results\nmodel = pickle.load(open('model.pkl','rb'))",
      "metadata": {
        "id": "41d6bb75"
      },
      "execution_count": 23,
      "outputs": [],
      "id": "41d6bb75"
    },
    {
      "cell_type": "markdown",
      "source": "### 12. Create new folder/new project in visual studio/pycharm that should contain the \"model.pkl\" file *make sure you are using a virutal environment and install required packages.*",
      "metadata": {
        "id": "af654594"
      },
      "id": "af654594"
    },
    {
      "cell_type": "markdown",
      "source": "### a) Create a basic HTML form for the frontend",
      "metadata": {
        "id": "c0b7bd95"
      },
      "id": "c0b7bd95"
    },
    {
      "cell_type": "markdown",
      "source": "Create a file **index.html** in the templates folder and copy the following code.",
      "metadata": {
        "id": "5a7a95db"
      },
      "id": "5a7a95db"
    },
    {
      "cell_type": "code",
      "source": "<!DOCTYPE html>\n<html lang=\"en\">\n\n<head>\n    <meta charset=\"UTF-8\">\n    <meta name=\"viewport\" content=\"width=device-width, initial-scale=1.0\">\n    <title>Document</title>\n</head>\n\n<body>\n\n    <div class=\"hero-image\">\n      <div class=\"hero-text\">\n\n        <h1 style=\"font-size:50px\">Used Car Price Predictor</h1>\n         <br><br><h3>{{ prediction_text }}<h3>\n      </div>\n    </div>\n\n     <style>\n\n        body, html {\n          height: 100%;\n          margin: 0;\n          font-family: Arial, Helvetica, sans-serif;\n        }\n\n        .hero-image {\n          background-image: linear-gradient(rgba(0, 0, 0, 0.5), rgba(0, 0, 0, 0.5)), url('/static/image.jpg');\n          height: 50%;\n          background-position: bottom;\n          background-repeat: no-repeat;\n          background-size: cover;\n          position: relative;\n        }\n\n        .hero-text {\n          text-align: center;\n          position: absolute;\n          top: 50%;\n          left: 50%;\n          transform: translate(-50%, -50%);\n          color: white;\n        }\n\n    </style>\n\n\n    <div style=\"color:\trgb(0, 0, 0)\">\n        <form action=\"{{ url_for('predict')}}\" method=\"post\">\n            <h2>Enter Car Details: </h2>\n            <h3>Age of the car(In years)</h3>\n            <input id=\"first\" name=\"Age_of_the_car\" type=\"number \">\n            <h3>Present Showroom Price(In lakhs)</h3><br><input id=\"second\" name=\"Present_Price\" required=\"required\">\n            <h3>Kilometers Driven</h3><input id=\"third\" name=\"Kms_Driven\" required=\"required\">\n            <h3>Owner Type (0/1/3)</h3><br><input id=\"fourth\" name=\"Owner\" required=\"required\">\n            <h3>Fuel type</h3><br><select name=\"Fuel_Type\" id=\"fuel\" required=\"required\">\n                <option value=\"0\">Petrol</option>\n                <option value=\"1\">Diesel</option>\n                <option value=\"2\">CNG</option>\n            </select>\n            <h3>Seller Type</h3><br><select name=\"Seller_Type\" id=\"resea\" required=\"required\">\n                <option value=\"0\">Dealer</option>\n                <option value=\"1\">Individual</option>\n            </select>\n            <h3>Transmission type</h3><br><select name=\"Transmission\" id=\"research\" required=\"required\">\n                <option value=\"0\">Manual Car</option>\n                <option value=\"1\">Automatic Car</option>\n            </select>\n            <br><br><button id=\"sub\" type=\"submit \">Predict Selling Price</button>\n            <br>\n\n\n        </form>\n\n    </div>\n\n    <style>\n\tbody {\n            background-color: 101, 10, 20;\n            text-align: center;\n            padding: 0px;\n\t    font-family: Helvetica;\n        }\n\n        #research {\n            font-size: 18px;\n            width: 200px;\n            height: 23px;\n            top: 23px;\n        }\n\n        #box {\n            border-radius: 60px;\n            border-color: 45px;\n            border-style: solid;\n            text-align: center;\n            background-color: white;\n            font-size: medium;\n            position: absolute;\n            width: 700px;\n            bottom: 9%;\n            height: 850px;\n            right: 30%;\n            padding: 0px;\n            margin: 0px;\n            font-size: 14px;\n        }\n\n        #fuel {\n            width: 83px;\n            height: 43px;\n            text-align: center;\n            border-radius: 14px;\n            font-size: 20px;\n        }\n\n        #fuel:hover {\n            background-color: white;\n        }\n\n        #research {\n            width: 150px;\n            height: 43px;\n            text-align: center;\n            border-radius: 14px;\n            font-size: 18px;\n        }\n\n        #research:hover {\n            background-color: white;\n        }\n\n        #resea {\n            width: 99px;\n            height: 43px;\n            text-align: center;\n            border-radius: 14px;\n            font-size: 18px;\n        }\n\n        #resea:hover {\n            background-color: white;\n        }\n\n        #sub {\n            background-color: Green;\n            font-family:'Helvetica' monospace;\n            font-weight: bold;\n            width: 180px;\n            height: 60px;\n            text-align: center;\n            border-radius: 20px;\n            font-size: 18px;\n            color: white;\n        }\n\n        #sub:hover {\n            background-color: white;\n        }\n\n        #first {\n            border-radius: 14px;\n            height: 25px;\n            font-size: 20px;\n            text-align: center;\n        }\n\n        #second {\n            border-radius: 14px;\n            height: 25px;\n            font-size: 20px;\n            text-align: center;\n        }\n\n        #third {\n            border-radius: 14px;\n            height: 25px;\n            font-size: 20px;\n            text-align: center;\n        }\n\n        #fourth {\n            border-radius: 14px;\n            height: 25px;\n            font-size: 20px;\n            text-align: center;\n        }\n    </style>\n</body>\n\n</html>",
      "metadata": {
        "id": "44153879"
      },
      "execution_count": null,
      "outputs": [],
      "id": "44153879"
    },
    {
      "cell_type": "markdown",
      "source": "### b) Create app.py file and write the predict function",
      "metadata": {
        "id": "2844d781"
      },
      "id": "2844d781"
    },
    {
      "cell_type": "code",
      "source": "import numpy as np\nfrom flask import Flask, request, jsonify, render_template\nimport pickle\n\napp = Flask(__name__)  # Initialize the flask App\nmodel = pickle.load(open('model.pkl', 'rb'))  # loading the trained model\n\n\n@app.route('/')  # Homepage\ndef home():\n    return render_template('index.html')\n\n\n@app.route('/predict', methods=['POST'])\ndef predict():\n    '''\n    For rendering results on HTML GUI\n    '''\n    if request.method == 'POST':\n        Present_Price = float(request.form['Present_Price'])\n        Kms_Driven = int(request.form['Kms_Driven'])\n        Owner = int(request.form['Owner'])\n        Fuel_Type = int(request.form['Fuel_Type'])\n        Age_of_the_car = int(request.form['Age_of_the_car'])\n        Seller_Type = int(request.form['Seller_Type'])\n        Transmission = int(request.form['Transmission'])\n        prediction = model.predict(\n            [[Present_Price, Kms_Driven, Owner, Fuel_Type, Age_of_the_car, Seller_Type, Transmission]])\n        output = round(prediction[0], 2)\n        # rendering the predicted result\n        return render_template('index.html', prediction_text=\"You can sell your car at {} lakhs\".format(output))\n\n\nif __name__ == \"__main__\":\n    app.run(debug=True)",
      "metadata": {
        "id": "7c40bdac"
      },
      "execution_count": null,
      "outputs": [],
      "id": "7c40bdac"
    },
    {
      "cell_type": "markdown",
      "source": "### 13. Deploy your app on Heroku. (write commands for deployment)",
      "metadata": {
        "id": "028ed8de"
      },
      "id": "028ed8de"
    },
    {
      "cell_type": "markdown",
      "source": " ##### P.S <font color=Blue> Do note, Heroku is no longer free and has become a paid version hence as instructed submitting the code as text itself (As per instruction from the Program Manager Ashwini) </font>\n\n-Login to heroku and create a heroku app.\n    - heroku login (then login to heroku with your the id and password).    \n- Create a heroku app\n    - heroku create nameofyourapp (go back to heroku dashboard we can see a app created with given name)\n- Create a Procfile (Procfile is a mechanism for declaring what commands are run by your application’s dynos on the Heroku platform.)\n    - echo web: >Procfile (creates a procfile)\n    - web: gunicorn app:app(paste this in the procfile)\n- Create a runtime.txt file (need to tell what type of python need to be used)\n    - python-3.10.5 (pass your version of the python in the file)\n- Create a requirements.txt file\n    - pip freeze >requirements.txt\n- Initialize a git repository git init\n- Push your code to git repository\n    - git add .\n    - git commit -m 'Intial Commit'\n- Push the code from your local repository's main branch to your heroku remote.\n    - heroku git:remote -a nameofapp (this will set git remote heroku)\n    - git push heroku master",
      "metadata": {
        "id": "8997b74d"
      },
      "id": "44b53f70"
    },
    {
      "cell_type": "markdown",
      "source": "### 14. Paste the URL of the heroku application below, and while submitting the solution submit this notebook along with the source code.",
      "metadata": {
        "id": "80008b60"
      },
      "id": "80008b60"
    },
    {
      "cell_type": "markdown",
      "source": " ##### <font color=Blue> Attached source code in the repository </font>",
      "metadata": {
        "id": "dc9ccccf"
      },
      "id": "0e6b5f0b-f6ff-471a-90c4-2a3868fd7ea4"
    },
    {
      "cell_type": "markdown",
      "source": "### Happy Learning :)",
      "metadata": {
        "id": "c5a533a5"
      },
      "id": "c5a533a5"
    }
  ]
}